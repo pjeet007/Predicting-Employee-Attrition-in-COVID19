{
 "cells": [
  {
   "cell_type": "code",
   "execution_count": 1,
   "metadata": {},
   "outputs": [],
   "source": [
    "import pandas as pd\n",
    "import numpy as np"
   ]
  },
  {
   "cell_type": "code",
   "execution_count": 2,
   "metadata": {},
   "outputs": [],
   "source": [
    "df=pd.read_csv(\"train.csv\")\n",
    "dft=pd.read_csv(\"test.csv\")"
   ]
  },
  {
   "cell_type": "code",
   "execution_count": 3,
   "metadata": {},
   "outputs": [],
   "source": [
    "df1=df.drop([\"Id\",\"Behaviour\"],axis=1)"
   ]
  },
  {
   "cell_type": "code",
   "execution_count": 5,
   "metadata": {},
   "outputs": [],
   "source": [
    "df2=df1[['Age','DistanceFromHome','EmployeeNumber','MonthlyIncome','NumCompaniesWorked','PercentSalaryHike','TotalWorkingYears','TrainingTimesLastYear','YearsAtCompany','YearsInCurrentRole','YearsSinceLastPromotion','YearsWithCurrManager']]\n",
    "df3=df1[['BusinessTravel','Department','EducationField','Gender','JobRole','MaritalStatus','OverTime']]\n",
    "df4=df1[['Attrition','Education','EnvironmentSatisfaction','JobInvolvement','JobSatisfaction','PerformanceRating','StockOptionLevel','CommunicationSkill']]"
   ]
  },
  {
   "cell_type": "code",
   "execution_count": 14,
   "metadata": {
    "collapsed": true
   },
   "outputs": [
    {
     "data": {
      "text/plain": [
       "array([[2.0, 0.0, 2.0, ..., 1.0, 2.0, 2.0],\n",
       "       [3.0, 1.0, 6.0, ..., 0.0, 0.0, 0.0],\n",
       "       [7.0, 0.0, 3.0, ..., 1.0, 2.0, 0.0],\n",
       "       ...,\n",
       "       [1.0, 0.0, 5.0, ..., 0.0, 0.0, 0.0],\n",
       "       [2.0, 1.0, 7.0, ..., 0.0, 0.0, 0.0],\n",
       "       [2.0, 1.0, 1.0, ..., 0.0, 0.0, 0.0]], dtype=object)"
      ]
     },
     "execution_count": 14,
     "metadata": {},
     "output_type": "execute_result"
    }
   ],
   "source": [
    "from sklearn.preprocessing import KBinsDiscretizer\n",
    "df2bin=KBinsDiscretizer(n_bins=[9,3,8,5,5,8,3,5,5,5,5,5],encode='ordinal',strategy='uniform').fit(df2)\n",
    "df22=df2bin.transform(df2)\n",
    "df22.astype('object')"
   ]
  },
  {
   "cell_type": "code",
   "execution_count": 15,
   "metadata": {},
   "outputs": [],
   "source": [
    "df21=pd.DataFrame(data=df22,columns=('Age','DistanceFromHome','EmployeeNumber','MonthlyIncome','NumCompaniesWorked','PercentSalaryHike','TotalWorkingYears','TrainingTimesLastYear','YearsAtCompany','YearsInCurrentRole','YearsSinceLastPromotion','YearsWithCurrManager'))"
   ]
  },
  {
   "cell_type": "code",
   "execution_count": 17,
   "metadata": {},
   "outputs": [],
   "source": [
    "xxct=pd.get_dummies(df21,columns=['Age','DistanceFromHome','EmployeeNumber','MonthlyIncome','NumCompaniesWorked','PercentSalaryHike','TotalWorkingYears','TrainingTimesLastYear','YearsAtCompany','YearsInCurrentRole','YearsSinceLastPromotion','YearsWithCurrManager'])"
   ]
  },
  {
   "cell_type": "code",
   "execution_count": 25,
   "metadata": {
    "collapsed": true
   },
   "outputs": [
    {
     "data": {
      "text/plain": [
       "Index(['Age_0.0', 'Age_1.0', 'Age_2.0', 'Age_3.0', 'Age_4.0', 'Age_5.0',\n",
       "       'Age_6.0', 'Age_7.0', 'Age_8.0', 'DistanceFromHome_0.0',\n",
       "       'DistanceFromHome_1.0', 'DistanceFromHome_2.0', 'EmployeeNumber_0.0',\n",
       "       'EmployeeNumber_1.0', 'EmployeeNumber_2.0', 'EmployeeNumber_3.0',\n",
       "       'EmployeeNumber_4.0', 'EmployeeNumber_5.0', 'EmployeeNumber_6.0',\n",
       "       'EmployeeNumber_7.0', 'MonthlyIncome_0.0', 'MonthlyIncome_1.0',\n",
       "       'MonthlyIncome_2.0', 'MonthlyIncome_3.0', 'MonthlyIncome_4.0',\n",
       "       'NumCompaniesWorked_0.0', 'NumCompaniesWorked_1.0',\n",
       "       'NumCompaniesWorked_2.0', 'NumCompaniesWorked_3.0',\n",
       "       'NumCompaniesWorked_4.0', 'PercentSalaryHike_0.0',\n",
       "       'PercentSalaryHike_1.0', 'PercentSalaryHike_2.0',\n",
       "       'PercentSalaryHike_3.0', 'PercentSalaryHike_4.0',\n",
       "       'PercentSalaryHike_5.0', 'PercentSalaryHike_6.0',\n",
       "       'PercentSalaryHike_7.0', 'TotalWorkingYears_0.0',\n",
       "       'TotalWorkingYears_1.0', 'TotalWorkingYears_2.0',\n",
       "       'TrainingTimesLastYear_0.0', 'TrainingTimesLastYear_1.0',\n",
       "       'TrainingTimesLastYear_2.0', 'TrainingTimesLastYear_3.0',\n",
       "       'TrainingTimesLastYear_4.0', 'YearsAtCompany_0.0', 'YearsAtCompany_1.0',\n",
       "       'YearsAtCompany_2.0', 'YearsAtCompany_3.0', 'YearsAtCompany_4.0',\n",
       "       'YearsInCurrentRole_0.0', 'YearsInCurrentRole_1.0',\n",
       "       'YearsInCurrentRole_2.0', 'YearsInCurrentRole_3.0',\n",
       "       'YearsInCurrentRole_4.0', 'YearsSinceLastPromotion_0.0',\n",
       "       'YearsSinceLastPromotion_1.0', 'YearsSinceLastPromotion_2.0',\n",
       "       'YearsSinceLastPromotion_3.0', 'YearsSinceLastPromotion_4.0',\n",
       "       'YearsWithCurrManager_0.0', 'YearsWithCurrManager_1.0',\n",
       "       'YearsWithCurrManager_2.0', 'YearsWithCurrManager_3.0',\n",
       "       'YearsWithCurrManager_4.0'],\n",
       "      dtype='object')"
      ]
     },
     "execution_count": 25,
     "metadata": {},
     "output_type": "execute_result"
    }
   ],
   "source": [
    "xxct.columns"
   ]
  },
  {
   "cell_type": "code",
   "execution_count": 26,
   "metadata": {},
   "outputs": [],
   "source": [
    "df221=xxct.drop(['Age_0.0','DistanceFromHome_0.0','EmployeeNumber_0.0','MonthlyIncome_0.0','NumCompaniesWorked_0.0','PercentSalaryHike_0.0','TotalWorkingYears_0.0','TrainingTimesLastYear_0.0','YearsAtCompany_0.0','YearsInCurrentRole_0.0','YearsSinceLastPromotion_0.0','YearsWithCurrManager_0.0'],axis=1)"
   ]
  },
  {
   "cell_type": "code",
   "execution_count": 27,
   "metadata": {},
   "outputs": [
    {
     "data": {
      "text/plain": [
       "(1628, 54)"
      ]
     },
     "execution_count": 27,
     "metadata": {},
     "output_type": "execute_result"
    }
   ],
   "source": [
    "df221.shape"
   ]
  },
  {
   "cell_type": "code",
   "execution_count": 9,
   "metadata": {},
   "outputs": [],
   "source": [
    "xct=pd.get_dummies(df3,columns=['BusinessTravel','Department','EducationField','Gender','JobRole','MaritalStatus','OverTime'])\n",
    "df31=xct.drop(['BusinessTravel_Non-Travel','Department_Human Resources','EducationField_Human Resources','Gender_Female','JobRole_Healthcare Representative','MaritalStatus_Divorced','OverTime_No'],axis=1)"
   ]
  },
  {
   "cell_type": "code",
   "execution_count": 38,
   "metadata": {},
   "outputs": [],
   "source": [
    "dftrn=pd.concat([df4,df31,df221], axis=1)"
   ]
  },
  {
   "cell_type": "code",
   "execution_count": 39,
   "metadata": {},
   "outputs": [],
   "source": [
    "X_1=dftrn.drop(['Attrition'],axis=1)\n",
    "Y_1=dftrn.Attrition"
   ]
  },
  {
   "cell_type": "code",
   "execution_count": null,
   "metadata": {},
   "outputs": [],
   "source": []
  },
  {
   "cell_type": "code",
   "execution_count": null,
   "metadata": {},
   "outputs": [],
   "source": []
  },
  {
   "cell_type": "code",
   "execution_count": 10,
   "metadata": {},
   "outputs": [],
   "source": [
    "dft1=dft.drop([\"Id\",\"Behaviour\"],axis=1)\n",
    "dft2=dft1[['Age','DistanceFromHome','EmployeeNumber','MonthlyIncome','NumCompaniesWorked','PercentSalaryHike','TotalWorkingYears','TrainingTimesLastYear','YearsAtCompany','YearsInCurrentRole','YearsSinceLastPromotion','YearsWithCurrManager']]\n",
    "dft3=dft1[['BusinessTravel','Department','EducationField','Gender','JobRole','MaritalStatus','OverTime']]\n",
    "dft4=dft1[['Education','EnvironmentSatisfaction','JobInvolvement','JobSatisfaction','PerformanceRating','StockOptionLevel','CommunicationSkill']]"
   ]
  },
  {
   "cell_type": "code",
   "execution_count": 11,
   "metadata": {},
   "outputs": [],
   "source": [
    "dft22=df2bin.transform(dft2)\n",
    "dft21=pd.DataFrame(data=dft22,columns=('Age','DistanceFromHome','EmployeeNumber','MonthlyIncome','NumCompaniesWorked','PercentSalaryHike','TotalWorkingYears','TrainingTimesLastYear','YearsAtCompany','YearsInCurrentRole','YearsSinceLastPromotion','YearsWithCurrManager'))"
   ]
  },
  {
   "cell_type": "code",
   "execution_count": 32,
   "metadata": {},
   "outputs": [],
   "source": [
    "xxctt=pd.get_dummies(dft21,columns=['Age','DistanceFromHome','EmployeeNumber','MonthlyIncome','NumCompaniesWorked','PercentSalaryHike','TotalWorkingYears','TrainingTimesLastYear','YearsAtCompany','YearsInCurrentRole','YearsSinceLastPromotion','YearsWithCurrManager'])"
   ]
  },
  {
   "cell_type": "code",
   "execution_count": 35,
   "metadata": {},
   "outputs": [
    {
     "data": {
      "text/plain": [
       "(470, 66)"
      ]
     },
     "execution_count": 35,
     "metadata": {},
     "output_type": "execute_result"
    }
   ],
   "source": [
    "xxctt.shape"
   ]
  },
  {
   "cell_type": "code",
   "execution_count": 36,
   "metadata": {},
   "outputs": [],
   "source": [
    "dft221=xxctt.drop(['Age_0.0','DistanceFromHome_0.0','EmployeeNumber_0.0','MonthlyIncome_0.0','NumCompaniesWorked_0.0','PercentSalaryHike_0.0','TotalWorkingYears_0.0','TrainingTimesLastYear_0.0','YearsAtCompany_0.0','YearsInCurrentRole_0.0','YearsSinceLastPromotion_0.0','YearsWithCurrManager_0.0'],axis=1)"
   ]
  },
  {
   "cell_type": "code",
   "execution_count": 37,
   "metadata": {},
   "outputs": [
    {
     "data": {
      "text/plain": [
       "(470, 54)"
      ]
     },
     "execution_count": 37,
     "metadata": {},
     "output_type": "execute_result"
    }
   ],
   "source": [
    "dft221.shape"
   ]
  },
  {
   "cell_type": "code",
   "execution_count": 12,
   "metadata": {},
   "outputs": [],
   "source": [
    "xctt=pd.get_dummies(dft3,columns=['BusinessTravel','Department','EducationField','Gender','JobRole','MaritalStatus','OverTime'])\n",
    "dft31=xctt.drop(['BusinessTravel_Non-Travel','Department_Human Resources','EducationField_Human Resources','Gender_Female','JobRole_Healthcare Representative','MaritalStatus_Divorced','OverTime_No'],axis=1)"
   ]
  },
  {
   "cell_type": "code",
   "execution_count": 40,
   "metadata": {},
   "outputs": [],
   "source": [
    "dfttrn=pd.concat([dft4,dft31,dft221], axis=1)\n",
    "Xt_1=dfttrn"
   ]
  },
  {
   "cell_type": "code",
   "execution_count": null,
   "metadata": {},
   "outputs": [],
   "source": []
  },
  {
   "cell_type": "code",
   "execution_count": 43,
   "metadata": {},
   "outputs": [],
   "source": [
    "from sklearn.model_selection import train_test_split\n",
    "X_train, X_test, y_train, y_test = train_test_split(X_1, Y_1, test_size=0.3)"
   ]
  },
  {
   "cell_type": "code",
   "execution_count": 52,
   "metadata": {},
   "outputs": [],
   "source": [
    "from sklearn.linear_model import LogisticRegression\n",
    "logisticRegr = LogisticRegression(solver='saga',max_iter=1000,C=10)"
   ]
  },
  {
   "cell_type": "code",
   "execution_count": 53,
   "metadata": {},
   "outputs": [],
   "source": [
    "logisticRegr.fit(X_train,y_train)\n",
    "y_predt_2=logisticRegr.predict(X_test)"
   ]
  },
  {
   "cell_type": "code",
   "execution_count": 54,
   "metadata": {},
   "outputs": [
    {
     "data": {
      "text/plain": [
       "0.8226922432568269"
      ]
     },
     "execution_count": 54,
     "metadata": {},
     "output_type": "execute_result"
    }
   ],
   "source": [
    "from sklearn.metrics import roc_auc_score\n",
    "roc_auc_score(y_test,y_predt_2)"
   ]
  },
  {
   "cell_type": "code",
   "execution_count": 55,
   "metadata": {},
   "outputs": [],
   "source": [
    "logisticRegr.fit(X_1,Y_1)\n",
    "y_predt_2t=logisticRegr.predict_proba(Xt_1)[:,1]"
   ]
  },
  {
   "cell_type": "code",
   "execution_count": 56,
   "metadata": {},
   "outputs": [],
   "source": [
    "np.savetxt('predict_pr00_lr.csv',y_predt_2t)"
   ]
  },
  {
   "cell_type": "code",
   "execution_count": 50,
   "metadata": {},
   "outputs": [],
   "source": [
    "from sklearn.ensemble import RandomForestRegressor\n",
    "from sklearn.ensemble import RandomForestClassifier\n",
    "clf=RandomForestRegressor(n_estimators=700,min_samples_leaf=15,max_features='sqrt',max_depth=15)\n",
    "clf.fit(X_train,y_train)\n",
    "y_pred1=clf.predict(X_test)"
   ]
  },
  {
   "cell_type": "code",
   "execution_count": 51,
   "metadata": {},
   "outputs": [
    {
     "data": {
      "text/plain": [
       "0.9118612832970346"
      ]
     },
     "execution_count": 51,
     "metadata": {},
     "output_type": "execute_result"
    }
   ],
   "source": [
    "roc_auc_score(y_test, y_pred1)"
   ]
  },
  {
   "cell_type": "code",
   "execution_count": null,
   "metadata": {},
   "outputs": [],
   "source": [
    "clf.fit(X_1,Y_1)\n",
    "y_predt=clf.predict(Xt_1)"
   ]
  }
 ],
 "metadata": {
  "kernelspec": {
   "display_name": "Python 3",
   "language": "python",
   "name": "python3"
  },
  "language_info": {
   "codemirror_mode": {
    "name": "ipython",
    "version": 3
   },
   "file_extension": ".py",
   "mimetype": "text/x-python",
   "name": "python",
   "nbconvert_exporter": "python",
   "pygments_lexer": "ipython3",
   "version": "3.7.6"
  }
 },
 "nbformat": 4,
 "nbformat_minor": 4
}
